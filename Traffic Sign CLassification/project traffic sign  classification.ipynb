{
 "cells": [
  {
   "cell_type": "code",
   "execution_count": 1,
   "metadata": {},
   "outputs": [
    {
     "name": "stderr",
     "output_type": "stream",
     "text": [
      "Using TensorFlow backend.\n"
     ]
    }
   ],
   "source": [
    "import numpy as np \n",
    "import pandas as pd \n",
    "import matplotlib.pyplot as plt\n",
    "import cv2\n",
    "import tensorflow as tf\n",
    "from PIL import Image\n",
    "import os\n",
    "from sklearn.model_selection import train_test_split\n",
    "from keras.utils import to_categorical\n",
    "from keras.models import Sequential, load_model\n",
    "from keras.layers import Conv2D, MaxPool2D, Dense, Flatten, Dropout"
   ]
  },
  {
   "cell_type": "code",
   "execution_count": 2,
   "metadata": {},
   "outputs": [],
   "source": [
    "from sklearn.metrics import accuracy_score"
   ]
  },
  {
   "cell_type": "code",
   "execution_count": 3,
   "metadata": {},
   "outputs": [],
   "source": [
    "data = []\n",
    "labels = []\n",
    "classes = 43"
   ]
  },
  {
   "cell_type": "code",
   "execution_count": 5,
   "metadata": {},
   "outputs": [],
   "source": [
    "os.chdir(\"C:/Users/vivek jha/Documents/Traffic Signal\")"
   ]
  },
  {
   "cell_type": "code",
   "execution_count": 10,
   "metadata": {},
   "outputs": [],
   "source": [
    "cur_path = \"\""
   ]
  },
  {
   "cell_type": "code",
   "execution_count": 11,
   "metadata": {},
   "outputs": [],
   "source": [
    "#Retrieving the images and their labels \n",
    "for i in range(classes):\n",
    "    path = os.path.join(cur_path,'train',str(i))\n",
    "    images = os.listdir(path)\n",
    "    for a in images:\n",
    "        try:\n",
    "            image = Image.open(path + '\\\\'+ a)\n",
    "            image = image.resize((30,30))\n",
    "            image = np.array(image)\n",
    "            #sim = Image.fromarray(image)\n",
    "            data.append(image)\n",
    "            labels.append(i)\n",
    "        except:\n",
    "            print(\"Error loading image\")"
   ]
  },
  {
   "cell_type": "code",
   "execution_count": 12,
   "metadata": {},
   "outputs": [
    {
     "name": "stdout",
     "output_type": "stream",
     "text": [
      "(39209, 30, 30, 3) (39209,)\n"
     ]
    }
   ],
   "source": [
    "#Converting lists into numpy arrays\n",
    "data = np.array(data)\n",
    "labels = np.array(labels)\n",
    "print(data.shape, labels.shape)"
   ]
  },
  {
   "cell_type": "code",
   "execution_count": 13,
   "metadata": {},
   "outputs": [
    {
     "name": "stdout",
     "output_type": "stream",
     "text": [
      "(31367, 30, 30, 3) (7842, 30, 30, 3) (31367,) (7842,)\n"
     ]
    }
   ],
   "source": [
    "#Splitting training and testing dataset\n",
    "X_train, X_test, y_train, y_test = train_test_split(data, labels, test_size=0.2, random_state=42)\n",
    "print(X_train.shape, X_test.shape, y_train.shape, y_test.shape)"
   ]
  },
  {
   "cell_type": "code",
   "execution_count": 14,
   "metadata": {},
   "outputs": [],
   "source": [
    "#Converting the labels into one hot encoding\n",
    "y_train = to_categorical(y_train, 43)\n",
    "y_test = to_categorical(y_test, 43)"
   ]
  },
  {
   "cell_type": "code",
   "execution_count": 15,
   "metadata": {},
   "outputs": [],
   "source": [
    "#Building the model\n",
    "model = Sequential()\n",
    "model.add(Conv2D(filters=32, kernel_size=(5,5), activation='relu', input_shape=X_train.shape[1:]))\n",
    "model.add(Conv2D(filters=32, kernel_size=(5,5), activation='relu'))\n",
    "model.add(MaxPool2D(pool_size=(2, 2)))\n",
    "model.add(Dropout(rate=0.25))\n",
    "model.add(Conv2D(filters=64, kernel_size=(3, 3), activation='relu'))\n",
    "model.add(Conv2D(filters=64, kernel_size=(3, 3), activation='relu'))\n",
    "model.add(MaxPool2D(pool_size=(2, 2)))\n",
    "model.add(Dropout(rate=0.25))\n",
    "model.add(Flatten())\n",
    "model.add(Dense(256, activation='relu'))\n",
    "model.add(Dropout(rate=0.5))\n",
    "model.add(Dense(43, activation='softmax'))"
   ]
  },
  {
   "cell_type": "code",
   "execution_count": 16,
   "metadata": {},
   "outputs": [],
   "source": [
    "#Compilation of the model\n",
    "model.compile(loss='categorical_crossentropy', optimizer='adam', metrics=['accuracy'])\n"
   ]
  },
  {
   "cell_type": "code",
   "execution_count": 17,
   "metadata": {},
   "outputs": [],
   "source": [
    "from keras.callbacks import ModelCheckpoint\n",
    "\n",
    "filepath = \"model_{epoch:02d}-{loss: .4f}.h5\"\n",
    "checkpoint = ModelCheckpoint(filepath, monitor='loss', verbose=1, save_best_only=True, mode='min')\n",
    "callbacks_list = [checkpoint]"
   ]
  },
  {
   "cell_type": "code",
   "execution_count": 18,
   "metadata": {},
   "outputs": [
    {
     "name": "stdout",
     "output_type": "stream",
     "text": [
      "Train on 31367 samples, validate on 7842 samples\n",
      "Epoch 1/30\n",
      "31367/31367 [==============================] - 131s 4ms/step - loss: 2.1374 - accuracy: 0.4727 - val_loss: 0.5651 - val_accuracy: 0.8587\n",
      "\n",
      "Epoch 00001: loss improved from inf to 2.13737, saving model to model_01- 2.1374.h5\n",
      "Epoch 2/30\n",
      "31367/31367 [==============================] - 120s 4ms/step - loss: 0.6592 - accuracy: 0.8117 - val_loss: 0.3166 - val_accuracy: 0.9304\n",
      "\n",
      "Epoch 00002: loss improved from 2.13737 to 0.65917, saving model to model_02- 0.6592.h5\n",
      "Epoch 3/30\n",
      "31367/31367 [==============================] - 131s 4ms/step - loss: 0.4013 - accuracy: 0.8855 - val_loss: 0.1451 - val_accuracy: 0.9628\n",
      "\n",
      "Epoch 00003: loss improved from 0.65917 to 0.40128, saving model to model_03- 0.4013.h5\n",
      "Epoch 4/30\n",
      "31367/31367 [==============================] - 122s 4ms/step - loss: 0.3318 - accuracy: 0.9055 - val_loss: 0.0959 - val_accuracy: 0.9705\n",
      "\n",
      "Epoch 00004: loss improved from 0.40128 to 0.33182, saving model to model_04- 0.3318.h5\n",
      "Epoch 5/30\n",
      "31367/31367 [==============================] - 129s 4ms/step - loss: 0.2868 - accuracy: 0.9192 - val_loss: 0.0816 - val_accuracy: 0.9792\n",
      "\n",
      "Epoch 00005: loss improved from 0.33182 to 0.28678, saving model to model_05- 0.2868.h5\n",
      "Epoch 6/30\n",
      "31367/31367 [==============================] - 123s 4ms/step - loss: 0.3029 - accuracy: 0.9157 - val_loss: 0.0696 - val_accuracy: 0.9800\n",
      "\n",
      "Epoch 00006: loss did not improve from 0.28678\n",
      "Epoch 7/30\n",
      "31367/31367 [==============================] - 123s 4ms/step - loss: 0.2687 - accuracy: 0.9256 - val_loss: 0.0927 - val_accuracy: 0.9726\n",
      "\n",
      "Epoch 00007: loss improved from 0.28678 to 0.26869, saving model to model_07- 0.2687.h5\n",
      "Epoch 8/30\n",
      "31367/31367 [==============================] - 129s 4ms/step - loss: 0.2619 - accuracy: 0.9301 - val_loss: 0.0726 - val_accuracy: 0.9805\n",
      "\n",
      "Epoch 00008: loss improved from 0.26869 to 0.26191, saving model to model_08- 0.2619.h5\n",
      "Epoch 9/30\n",
      "31367/31367 [==============================] - 123s 4ms/step - loss: 0.2477 - accuracy: 0.9360 - val_loss: 0.0732 - val_accuracy: 0.9792\n",
      "\n",
      "Epoch 00009: loss improved from 0.26191 to 0.24765, saving model to model_09- 0.2477.h5\n",
      "Epoch 10/30\n",
      "31367/31367 [==============================] - 123s 4ms/step - loss: 0.2554 - accuracy: 0.9350 - val_loss: 0.0548 - val_accuracy: 0.9867\n",
      "\n",
      "Epoch 00010: loss did not improve from 0.24765\n",
      "Epoch 11/30\n",
      "31367/31367 [==============================] - 130s 4ms/step - loss: 0.2346 - accuracy: 0.9382 - val_loss: 0.0792 - val_accuracy: 0.9816\n",
      "\n",
      "Epoch 00011: loss improved from 0.24765 to 0.23461, saving model to model_11- 0.2346.h5\n",
      "Epoch 12/30\n",
      "31367/31367 [==============================] - 126s 4ms/step - loss: 0.2213 - accuracy: 0.9446 - val_loss: 0.0488 - val_accuracy: 0.9870\n",
      "\n",
      "Epoch 00012: loss improved from 0.23461 to 0.22132, saving model to model_12- 0.2213.h5\n",
      "Epoch 13/30\n",
      "31367/31367 [==============================] - 130s 4ms/step - loss: 0.2377 - accuracy: 0.9406 - val_loss: 0.0470 - val_accuracy: 0.9878\n",
      "\n",
      "Epoch 00013: loss did not improve from 0.22132\n",
      "Epoch 14/30\n",
      "31367/31367 [==============================] - 129s 4ms/step - loss: 0.2272 - accuracy: 0.9424 - val_loss: 0.0644 - val_accuracy: 0.9813\n",
      "\n",
      "Epoch 00014: loss did not improve from 0.22132\n",
      "Epoch 15/30\n",
      "31367/31367 [==============================] - 128s 4ms/step - loss: 0.2616 - accuracy: 0.9345 - val_loss: 0.0558 - val_accuracy: 0.9858\n",
      "\n",
      "Epoch 00015: loss did not improve from 0.22132\n",
      "Epoch 16/30\n",
      "31367/31367 [==============================] - 131s 4ms/step - loss: 0.2391 - accuracy: 0.9411 - val_loss: 0.0460 - val_accuracy: 0.9889\n",
      "\n",
      "Epoch 00016: loss did not improve from 0.22132\n",
      "Epoch 17/30\n",
      "31367/31367 [==============================] - 131s 4ms/step - loss: 0.2271 - accuracy: 0.9478 - val_loss: 0.0975 - val_accuracy: 0.9750\n",
      "\n",
      "Epoch 00017: loss did not improve from 0.22132\n",
      "Epoch 18/30\n",
      "31367/31367 [==============================] - 128s 4ms/step - loss: 0.2360 - accuracy: 0.9449 - val_loss: 0.0644 - val_accuracy: 0.9833\n",
      "\n",
      "Epoch 00018: loss did not improve from 0.22132\n",
      "Epoch 19/30\n",
      "31367/31367 [==============================] - 131s 4ms/step - loss: 0.2538 - accuracy: 0.9430 - val_loss: 0.0645 - val_accuracy: 0.9804\n",
      "\n",
      "Epoch 00019: loss did not improve from 0.22132\n",
      "Epoch 20/30\n",
      "31367/31367 [==============================] - 128s 4ms/step - loss: 0.2325 - accuracy: 0.9456 - val_loss: 0.0416 - val_accuracy: 0.9898\n",
      "\n",
      "Epoch 00020: loss did not improve from 0.22132\n",
      "Epoch 21/30\n",
      "31367/31367 [==============================] - 128s 4ms/step - loss: 0.2221 - accuracy: 0.9491 - val_loss: 0.0867 - val_accuracy: 0.9763\n",
      "\n",
      "Epoch 00021: loss did not improve from 0.22132\n",
      "Epoch 22/30\n",
      "31367/31367 [==============================] - 126s 4ms/step - loss: 0.2451 - accuracy: 0.9421 - val_loss: 0.0664 - val_accuracy: 0.9843\n",
      "\n",
      "Epoch 00022: loss did not improve from 0.22132\n",
      "Epoch 23/30\n",
      "31367/31367 [==============================] - 129s 4ms/step - loss: 0.2296 - accuracy: 0.9469 - val_loss: 0.0497 - val_accuracy: 0.9874\n",
      "\n",
      "Epoch 00023: loss did not improve from 0.22132\n",
      "Epoch 24/30\n",
      "31367/31367 [==============================] - 129s 4ms/step - loss: 0.2308 - accuracy: 0.9496 - val_loss: 0.0669 - val_accuracy: 0.9827\n",
      "\n",
      "Epoch 00024: loss did not improve from 0.22132\n",
      "Epoch 25/30\n",
      "31367/31367 [==============================] - 129s 4ms/step - loss: 0.2467 - accuracy: 0.9454 - val_loss: 0.0674 - val_accuracy: 0.9805\n",
      "\n",
      "Epoch 00025: loss did not improve from 0.22132\n",
      "Epoch 26/30\n",
      "31367/31367 [==============================] - 130s 4ms/step - loss: 0.2699 - accuracy: 0.9421 - val_loss: 0.0560 - val_accuracy: 0.9878\n",
      "\n",
      "Epoch 00026: loss did not improve from 0.22132\n",
      "Epoch 27/30\n",
      "31367/31367 [==============================] - 130s 4ms/step - loss: 0.2862 - accuracy: 0.9396 - val_loss: 0.1005 - val_accuracy: 0.9688\n",
      "\n",
      "Epoch 00027: loss did not improve from 0.22132\n",
      "Epoch 28/30\n",
      "31367/31367 [==============================] - 130s 4ms/step - loss: 0.2640 - accuracy: 0.9441 - val_loss: 0.0615 - val_accuracy: 0.9858\n",
      "\n",
      "Epoch 00028: loss did not improve from 0.22132\n",
      "Epoch 29/30\n",
      "31367/31367 [==============================] - 130s 4ms/step - loss: 0.2239 - accuracy: 0.9496 - val_loss: 0.0416 - val_accuracy: 0.9901\n",
      "\n",
      "Epoch 00029: loss did not improve from 0.22132\n",
      "Epoch 30/30\n",
      "31367/31367 [==============================] - 132s 4ms/step - loss: 0.2494 - accuracy: 0.9479 - val_loss: 0.0684 - val_accuracy: 0.9820\n",
      "\n",
      "Epoch 00030: loss did not improve from 0.22132\n"
     ]
    }
   ],
   "source": [
    "epochs = 30\n",
    "history = model.fit(X_train, y_train, batch_size=32, epochs=epochs,callbacks=callbacks_list, validation_data=(X_test, y_test))"
   ]
  },
  {
   "cell_type": "code",
   "execution_count": 19,
   "metadata": {},
   "outputs": [
    {
     "data": {
      "image/png": "[encoded data removed]",
      "text/plain": [
       "<Figure size 432x288 with 1 Axes>"
      ]
     },
     "metadata": {
      "needs_background": "light"
     },
     "output_type": "display_data"
    }
   ],
   "source": [
    "#plotting graphs for accuracy \n",
    "plt.figure(0)\n",
    "plt.plot(history.history['accuracy'], label='training accuracy')\n",
    "plt.plot(history.history['val_accuracy'], label='val accuracy')\n",
    "plt.title('Accuracy')\n",
    "plt.xlabel('epochs')\n",
    "plt.ylabel('accuracy')\n",
    "plt.legend()\n",
    "plt.show()"
   ]
  },
  {
   "cell_type": "code",
   "execution_count": 14,
   "metadata": {},
   "outputs": [
    {
     "data": {
      "image/png": "[encoded data removed]",
      "text/plain": [
       "<Figure size 432x288 with 1 Axes>"
      ]
     },
     "metadata": {
      "needs_background": "light"
     },
     "output_type": "display_data"
    }
   ],
   "source": [
    "plt.figure(1)\n",
    "plt.plot(history.history['loss'], label='training loss')\n",
    "plt.plot(history.history['val_loss'], label='val loss')\n",
    "plt.title('Loss')\n",
    "plt.xlabel('epochs')\n",
    "plt.ylabel('loss')\n",
    "plt.legend()\n",
    "plt.show()"
   ]
  },
  {
   "cell_type": "code",
   "execution_count": 22,
   "metadata": {
    "scrolled": true
   },
   "outputs": [],
   "source": [
    "#testing accuracy on test dataset\n",
    "y_test = pd.read_csv('Test.csv')\n",
    "labels = y_test[\"ClassId\"].values\n",
    "data=[]\n",
    "imgs=y_test['Path']\n",
    "for img in imgs:\n",
    "    image = Image.open(img)\n",
    "    image = image.resize((30,30))\n",
    "    data.append(np.array(image))"
   ]
  },
  {
   "cell_type": "code",
   "execution_count": 23,
   "metadata": {},
   "outputs": [
    {
     "name": "stdout",
     "output_type": "stream",
     "text": [
      "0.9517814726840855\n"
     ]
    }
   ],
   "source": [
    "X_test=np.array(data)\n",
    "pred = model.predict_classes(X_test)\n",
    "#Accuracy with the test data\n",
    "print(accuracy_score(labels, pred))\n",
    "model.save('traffic_classifier.h5')"
   ]
  },
  {
   "cell_type": "code",
   "execution_count": null,
   "metadata": {},
   "outputs": [],
   "source": []
  }
 ],
 "metadata": {
  "kernelspec": {
   "display_name": "Python 3",
   "language": "python",
   "name": "python3"
  },
  "language_info": {
   "codemirror_mode": {
    "name": "ipython",
    "version": 3
   },
   "file_extension": ".py",
   "mimetype": "text/x-python",
   "name": "python",
   "nbconvert_exporter": "python",
   "pygments_lexer": "ipython3",
   "version": "3.7.3"
  }
 },
 "nbformat": 4,
 "nbformat_minor": 2
}
